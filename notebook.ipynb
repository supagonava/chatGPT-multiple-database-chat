{
 "cells": [
  {
   "cell_type": "code",
   "execution_count": 60,
   "metadata": {},
   "outputs": [],
   "source": [
    "# Sub Agent\n",
    "import glob, os, json\n",
    "from dotenv import load_dotenv\n",
    "\n",
    "load_dotenv()\n",
    "\n",
    "# Step convert human message to sql statement\n",
    "import pandas as pd\n",
    "from typing import Literal\n",
    "from services.chatgpt_connection import ChatGPTConnection\n",
    "from services.sqlite_connection import SQLiteConnection\n",
    "from services.postgresql_connection import PostgreSQLConnection\n",
    "\n",
    "\n",
    "DB_MAPPER: dict[str, SQLiteConnection, PostgreSQLConnection] = {\n",
    "    \"chinook-db-agent\": SQLiteConnection(\n",
    "        os.environ.get(\"SQLITE_DB_PATH\", \"database/chinook.db\"),\n",
    "    ),\n",
    "    \"northwind-db-agent\": PostgreSQLConnection(\n",
    "        db_name=os.environ.get(\"POSTGRES_DB_NAME\", \"northwind\"),\n",
    "        user=os.environ.get(\"POSTGRES_USER\", \"postgres\"),\n",
    "        password=os.environ.get(\"POSTGRES_PASSWORD\", \"postgres\"),\n",
    "        host=os.environ.get(\"POSTGRES_HOST\", \"localhost\"),\n",
    "        port=5432,\n",
    "    ),\n",
    "}"
   ]
  },
  {
   "cell_type": "code",
   "execution_count": 69,
   "metadata": {},
   "outputs": [
    {
     "data": {
      "text/plain": [
       "[{'agent_name': 'northwind-db-agent',\n",
       "  'description': 'Agent who know everything about categories,customer_customer_demo,customer_demographics,customers,employee_territories,employees,order_details,orders,products,region,shippers,suppliers,territories,us_states',\n",
       "  'db_type': 'postgresql',\n",
       "  'prompt_file_path': 'prompts/northwind-db-agent.txt',\n",
       "  'sql_schema_path': 'database/northwind-structure.sql',\n",
       "  'prompt': 'คุณคือผู้ช่วยตอบคำถามของ User โดยคุณจะรู้ข้อมูลของ database `northwind` (Postgresql)\\n\\nDATABASE SCHEMA:\\n```-- -------------------------------------------------------------\\n-- TablePlus 6.1.2(568)\\n--\\n-- https://tableplus.com/\\n--\\n-- Database: northwind\\n-- Generation Time: 2567-08-27 11:56:28.4640\\n-- -------------------------------------------------------------\\n\\n\\n-- This script only contains the table creation statements and does not fully represent the table in the database. Do not use it as a backup.\\n\\n-- Table Definition\\nCREATE TABLE \"public\".\"categories\" (\\n    \"category_id\" int2 NOT NULL,\\n    \"category_name\" varchar(15) NOT NULL,\\n    \"description\" text,\\n    \"picture\" bytea,\\n    PRIMARY KEY (\"category_id\")\\n);\\n\\n-- This script only contains the table creation statements and does not fully represent the table in the database. Do not use it as a backup.\\n\\n-- Table Definition\\nCREATE TABLE \"public\".\"customer_customer_demo\" (\\n    \"customer_id\" varchar(5) NOT NULL,\\n    \"customer_type_id\" varchar(5) NOT NULL,\\n    PRIMARY KEY (\"customer_id\",\"customer_type_id\")\\n);\\n\\n-- This script only contains the table creation statements and does not fully represent the table in the database. Do not use it as a backup.\\n\\n-- Table Definition\\nCREATE TABLE \"public\".\"customer_demographics\" (\\n    \"customer_type_id\" varchar(5) NOT NULL,\\n    \"customer_desc\" text,\\n    PRIMARY KEY (\"customer_type_id\")\\n);\\n\\n-- This script only contains the table creation statements and does not fully represent the table in the database. Do not use it as a backup.\\n\\n-- Table Definition\\nCREATE TABLE \"public\".\"customers\" (\\n    \"customer_id\" varchar(5) NOT NULL,\\n    \"company_name\" varchar(40) NOT NULL,\\n    \"contact_name\" varchar(30),\\n    \"contact_title\" varchar(30),\\n    \"address\" varchar(60),\\n    \"city\" varchar(15),\\n    \"region\" varchar(15),\\n    \"postal_code\" varchar(10),\\n    \"country\" varchar(15),\\n    \"phone\" varchar(24),\\n    \"fax\" varchar(24),\\n    PRIMARY KEY (\"customer_id\")\\n);\\n\\n-- This script only contains the table creation statements and does not fully represent the table in the database. Do not use it as a backup.\\n\\n-- Table Definition\\nCREATE TABLE \"public\".\"employee_territories\" (\\n    \"employee_id\" int2 NOT NULL,\\n    \"territory_id\" varchar(20) NOT NULL,\\n    PRIMARY KEY (\"employee_id\",\"territory_id\")\\n);\\n\\n-- This script only contains the table creation statements and does not fully represent the table in the database. Do not use it as a backup.\\n\\n-- Table Definition\\nCREATE TABLE \"public\".\"employees\" (\\n    \"employee_id\" int2 NOT NULL,\\n    \"last_name\" varchar(20) NOT NULL,\\n    \"first_name\" varchar(10) NOT NULL,\\n    \"title\" varchar(30),\\n    \"title_of_courtesy\" varchar(25),\\n    \"birth_date\" date,\\n    \"hire_date\" date,\\n    \"address\" varchar(60),\\n    \"city\" varchar(15),\\n    \"region\" varchar(15),\\n    \"postal_code\" varchar(10),\\n    \"country\" varchar(15),\\n    \"home_phone\" varchar(24),\\n    \"extension\" varchar(4),\\n    \"photo\" bytea,\\n    \"notes\" text,\\n    \"reports_to\" int2,\\n    \"photo_path\" varchar(255),\\n    PRIMARY KEY (\"employee_id\")\\n);\\n\\n-- This script only contains the table creation statements and does not fully represent the table in the database. Do not use it as a backup.\\n\\n-- Table Definition\\nCREATE TABLE \"public\".\"order_details\" (\\n    \"order_id\" int2 NOT NULL,\\n    \"product_id\" int2 NOT NULL,\\n    \"unit_price\" float4 NOT NULL,\\n    \"quantity\" int2 NOT NULL,\\n    \"discount\" float4 NOT NULL,\\n    PRIMARY KEY (\"order_id\",\"product_id\")\\n);\\n\\n-- This script only contains the table creation statements and does not fully represent the table in the database. Do not use it as a backup.\\n\\n-- Table Definition\\nCREATE TABLE \"public\".\"orders\" (\\n    \"order_id\" int2 NOT NULL,\\n    \"customer_id\" varchar(5),\\n    \"employee_id\" int2,\\n    \"order_date\" date,\\n    \"required_date\" date,\\n    \"shipped_date\" date,\\n    \"ship_via\" int2,\\n    \"freight\" float4,\\n    \"ship_name\" varchar(40),\\n    \"ship_address\" varchar(60),\\n    \"ship_city\" varchar(15),\\n    \"ship_region\" varchar(15),\\n    \"ship_postal_code\" varchar(10),\\n    \"ship_country\" varchar(15),\\n    PRIMARY KEY (\"order_id\")\\n);\\n\\n-- This script only contains the table creation statements and does not fully represent the table in the database. Do not use it as a backup.\\n\\n-- Table Definition\\nCREATE TABLE \"public\".\"products\" (\\n    \"product_id\" int2 NOT NULL,\\n    \"product_name\" varchar(40) NOT NULL,\\n    \"supplier_id\" int2,\\n    \"category_id\" int2,\\n    \"quantity_per_unit\" varchar(20),\\n    \"unit_price\" float4,\\n    \"units_in_stock\" int2,\\n    \"units_on_order\" int2,\\n    \"reorder_level\" int2,\\n    \"discontinued\" int4 NOT NULL,\\n    PRIMARY KEY (\"product_id\")\\n);\\n\\n-- This script only contains the table creation statements and does not fully represent the table in the database. Do not use it as a backup.\\n\\n-- Table Definition\\nCREATE TABLE \"public\".\"region\" (\\n    \"region_id\" int2 NOT NULL,\\n    \"region_description\" varchar(60) NOT NULL,\\n    PRIMARY KEY (\"region_id\")\\n);\\n\\n-- This script only contains the table creation statements and does not fully represent the table in the database. Do not use it as a backup.\\n\\n-- Table Definition\\nCREATE TABLE \"public\".\"shippers\" (\\n    \"shipper_id\" int2 NOT NULL,\\n    \"company_name\" varchar(40) NOT NULL,\\n    \"phone\" varchar(24),\\n    PRIMARY KEY (\"shipper_id\")\\n);\\n\\n-- This script only contains the table creation statements and does not fully represent the table in the database. Do not use it as a backup.\\n\\n-- Table Definition\\nCREATE TABLE \"public\".\"suppliers\" (\\n    \"supplier_id\" int2 NOT NULL,\\n    \"company_name\" varchar(40) NOT NULL,\\n    \"contact_name\" varchar(30),\\n    \"contact_title\" varchar(30),\\n    \"address\" varchar(60),\\n    \"city\" varchar(15),\\n    \"region\" varchar(15),\\n    \"postal_code\" varchar(10),\\n    \"country\" varchar(15),\\n    \"phone\" varchar(24),\\n    \"fax\" varchar(24),\\n    \"homepage\" text,\\n    PRIMARY KEY (\"supplier_id\")\\n);\\n\\n-- This script only contains the table creation statements and does not fully represent the table in the database. Do not use it as a backup.\\n\\n-- Table Definition\\nCREATE TABLE \"public\".\"territories\" (\\n    \"territory_id\" varchar(20) NOT NULL,\\n    \"territory_description\" varchar(60) NOT NULL,\\n    \"region_id\" int2 NOT NULL,\\n    PRIMARY KEY (\"territory_id\")\\n);\\n\\n-- This script only contains the table creation statements and does not fully represent the table in the database. Do not use it as a backup.\\n\\n-- Table Definition\\nCREATE TABLE \"public\".\"us_states\" (\\n    \"state_id\" int2 NOT NULL,\\n    \"state_name\" varchar(100),\\n    \"state_abbr\" varchar(2),\\n    \"state_region\" varchar(50),\\n    PRIMARY KEY (\"state_id\")\\n);\\n\\n\\n\\n-- Indices\\nCREATE UNIQUE INDEX pk_categories ON public.categories USING btree (category_id);\\nALTER TABLE \"public\".\"customer_customer_demo\" ADD FOREIGN KEY (\"customer_id\") REFERENCES \"public\".\"customers\"(\"customer_id\");\\nALTER TABLE \"public\".\"customer_customer_demo\" ADD FOREIGN KEY (\"customer_type_id\") REFERENCES \"public\".\"customer_demographics\"(\"customer_type_id\");\\n\\n\\n-- Indices\\nCREATE UNIQUE INDEX pk_customer_customer_demo ON public.customer_customer_demo USING btree (customer_id, customer_type_id);\\n\\n\\n-- Indices\\nCREATE UNIQUE INDEX pk_customer_demographics ON public.customer_demographics USING btree (customer_type_id);\\n\\n\\n-- Indices\\nCREATE UNIQUE INDEX pk_customers ON public.customers USING btree (customer_id);\\nALTER TABLE \"public\".\"employee_territories\" ADD FOREIGN KEY (\"employee_id\") REFERENCES \"public\".\"employees\"(\"employee_id\");\\nALTER TABLE \"public\".\"employee_territories\" ADD FOREIGN KEY (\"territory_id\") REFERENCES \"public\".\"territories\"(\"territory_id\");\\n\\n\\n-- Indices\\nCREATE UNIQUE INDEX pk_employee_territories ON public.employee_territories USING btree (employee_id, territory_id);\\nALTER TABLE \"public\".\"employees\" ADD FOREIGN KEY (\"reports_to\") REFERENCES \"public\".\"employees\"(\"employee_id\");\\n\\n\\n-- Indices\\nCREATE UNIQUE INDEX pk_employees ON public.employees USING btree (employee_id);\\nALTER TABLE \"public\".\"order_details\" ADD FOREIGN KEY (\"product_id\") REFERENCES \"public\".\"products\"(\"product_id\");\\nALTER TABLE \"public\".\"order_details\" ADD FOREIGN KEY (\"order_id\") REFERENCES \"public\".\"orders\"(\"order_id\");\\n\\n\\n-- Indices\\nCREATE UNIQUE INDEX pk_order_details ON public.order_details USING btree (order_id, product_id);\\nALTER TABLE \"public\".\"orders\" ADD FOREIGN KEY (\"customer_id\") REFERENCES \"public\".\"customers\"(\"customer_id\");\\nALTER TABLE \"public\".\"orders\" ADD FOREIGN KEY (\"employee_id\") REFERENCES \"public\".\"employees\"(\"employee_id\");\\nALTER TABLE \"public\".\"orders\" ADD FOREIGN KEY (\"ship_via\") REFERENCES \"public\".\"shippers\"(\"shipper_id\");\\n\\n\\n-- Indices\\nCREATE UNIQUE INDEX pk_orders ON public.orders USING btree (order_id);\\nALTER TABLE \"public\".\"products\" ADD FOREIGN KEY (\"category_id\") REFERENCES \"public\".\"categories\"(\"category_id\");\\nALTER TABLE \"public\".\"products\" ADD FOREIGN KEY (\"supplier_id\") REFERENCES \"public\".\"suppliers\"(\"supplier_id\");\\n\\n\\n-- Indices\\nCREATE UNIQUE INDEX pk_products ON public.products USING btree (product_id);\\n\\n\\n-- Indices\\nCREATE UNIQUE INDEX pk_region ON public.region USING btree (region_id);\\n\\n\\n-- Indices\\nCREATE UNIQUE INDEX pk_shippers ON public.shippers USING btree (shipper_id);\\n\\n\\n-- Indices\\nCREATE UNIQUE INDEX pk_suppliers ON public.suppliers USING btree (supplier_id);\\nALTER TABLE \"public\".\"territories\" ADD FOREIGN KEY (\"region_id\") REFERENCES \"public\".\"region\"(\"region_id\");\\n\\n\\n-- Indices\\nCREATE UNIQUE INDEX pk_territories ON public.territories USING btree (territory_id);\\n\\n\\n-- Indices\\nCREATE UNIQUE INDEX pk_usstates ON public.us_states USING btree (state_id);\\n```'},\n",
       " {'agent_name': 'chinook-db-agent',\n",
       "  'description': 'Agent who know everything about albums, artists, customers, employees, genres, invoice_items, invoices, media_types, playlist_track, playlists, tracks',\n",
       "  'db_type': 'sqlite3',\n",
       "  'prompt_file_path': 'prompts/chinook-db-agent.txt',\n",
       "  'sql_schema_path': 'database/chinnook-structure.sql',\n",
       "  'prompt': 'คุณคือผู้ช่วยตอบคำถามของ User โดยคุณจะรู้ข้อมูลของ database chinook db (SQLITE)\\n\\nDATABASE SCHEMA:\\n```-- -------------------------------------------------------------\\n-- TablePlus 6.1.2(568)\\n--\\n-- https://tableplus.com/\\n--\\n-- Database: chinook.db\\n-- Generation Time: 2567-08-27 13:05:54.0280\\n-- -------------------------------------------------------------\\n\\n\\nCREATE TABLE \"albums\"\\n(\\n    [AlbumId] INTEGER PRIMARY KEY AUTOINCREMENT NOT NULL,\\n    [Title] NVARCHAR(160)  NOT NULL,\\n    [ArtistId] INTEGER  NOT NULL,\\n    FOREIGN KEY ([ArtistId]) REFERENCES \"artists\" ([ArtistId]) \\n\\t\\tON DELETE NO ACTION ON UPDATE NO ACTION\\n);\\n\\nCREATE TABLE \"artists\"\\n(\\n    [ArtistId] INTEGER PRIMARY KEY AUTOINCREMENT NOT NULL,\\n    [Name] NVARCHAR(120)\\n);\\n\\nCREATE TABLE \"customers\"\\n(\\n    [CustomerId] INTEGER PRIMARY KEY AUTOINCREMENT NOT NULL,\\n    [FirstName] NVARCHAR(40)  NOT NULL,\\n    [LastName] NVARCHAR(20)  NOT NULL,\\n    [Company] NVARCHAR(80),\\n    [Address] NVARCHAR(70),\\n    [City] NVARCHAR(40),\\n    [State] NVARCHAR(40),\\n    [Country] NVARCHAR(40),\\n    [PostalCode] NVARCHAR(10),\\n    [Phone] NVARCHAR(24),\\n    [Fax] NVARCHAR(24),\\n    [Email] NVARCHAR(60)  NOT NULL,\\n    [SupportRepId] INTEGER,\\n    FOREIGN KEY ([SupportRepId]) REFERENCES \"employees\" ([EmployeeId]) \\n\\t\\tON DELETE NO ACTION ON UPDATE NO ACTION\\n);\\n\\nCREATE TABLE \"employees\"\\n(\\n    [EmployeeId] INTEGER PRIMARY KEY AUTOINCREMENT NOT NULL,\\n    [LastName] NVARCHAR(20)  NOT NULL,\\n    [FirstName] NVARCHAR(20)  NOT NULL,\\n    [Title] NVARCHAR(30),\\n    [ReportsTo] INTEGER,\\n    [BirthDate] DATETIME,\\n    [HireDate] DATETIME,\\n    [Address] NVARCHAR(70),\\n    [City] NVARCHAR(40),\\n    [State] NVARCHAR(40),\\n    [Country] NVARCHAR(40),\\n    [PostalCode] NVARCHAR(10),\\n    [Phone] NVARCHAR(24),\\n    [Fax] NVARCHAR(24),\\n    [Email] NVARCHAR(60),\\n    FOREIGN KEY ([ReportsTo]) REFERENCES \"employees\" ([EmployeeId]) \\n\\t\\tON DELETE NO ACTION ON UPDATE NO ACTION\\n);\\n\\nCREATE TABLE \"genres\"\\n(\\n    [GenreId] INTEGER PRIMARY KEY AUTOINCREMENT NOT NULL,\\n    [Name] NVARCHAR(120)\\n);\\n\\nCREATE TABLE \"invoice_items\"\\n(\\n    [InvoiceLineId] INTEGER PRIMARY KEY AUTOINCREMENT NOT NULL,\\n    [InvoiceId] INTEGER  NOT NULL,\\n    [TrackId] INTEGER  NOT NULL,\\n    [UnitPrice] NUMERIC(10,2)  NOT NULL,\\n    [Quantity] INTEGER  NOT NULL,\\n    FOREIGN KEY ([InvoiceId]) REFERENCES \"invoices\" ([InvoiceId]) \\n\\t\\tON DELETE NO ACTION ON UPDATE NO ACTION,\\n    FOREIGN KEY ([TrackId]) REFERENCES \"tracks\" ([TrackId]) \\n\\t\\tON DELETE NO ACTION ON UPDATE NO ACTION\\n);\\n\\nCREATE TABLE \"invoices\"\\n(\\n    [InvoiceId] INTEGER PRIMARY KEY AUTOINCREMENT NOT NULL,\\n    [CustomerId] INTEGER  NOT NULL,\\n    [InvoiceDate] DATETIME  NOT NULL,\\n    [BillingAddress] NVARCHAR(70),\\n    [BillingCity] NVARCHAR(40),\\n    [BillingState] NVARCHAR(40),\\n    [BillingCountry] NVARCHAR(40),\\n    [BillingPostalCode] NVARCHAR(10),\\n    [Total] NUMERIC(10,2)  NOT NULL,\\n    FOREIGN KEY ([CustomerId]) REFERENCES \"customers\" ([CustomerId]) \\n\\t\\tON DELETE NO ACTION ON UPDATE NO ACTION\\n);\\n\\nCREATE TABLE \"media_types\"\\n(\\n    [MediaTypeId] INTEGER PRIMARY KEY AUTOINCREMENT NOT NULL,\\n    [Name] NVARCHAR(120)\\n);\\n\\nCREATE TABLE \"playlist_track\"\\n(\\n    [PlaylistId] INTEGER  NOT NULL,\\n    [TrackId] INTEGER  NOT NULL,\\n    CONSTRAINT [PK_PlaylistTrack] PRIMARY KEY  ([PlaylistId], [TrackId]),\\n    FOREIGN KEY ([PlaylistId]) REFERENCES \"playlists\" ([PlaylistId]) \\n\\t\\tON DELETE NO ACTION ON UPDATE NO ACTION,\\n    FOREIGN KEY ([TrackId]) REFERENCES \"tracks\" ([TrackId]) \\n\\t\\tON DELETE NO ACTION ON UPDATE NO ACTION\\n);\\n\\nCREATE TABLE \"playlists\"\\n(\\n    [PlaylistId] INTEGER PRIMARY KEY AUTOINCREMENT NOT NULL,\\n    [Name] NVARCHAR(120)\\n);\\n\\nCREATE TABLE sqlite_sequence(name,seq);\\n\\nCREATE TABLE sqlite_stat1(tbl,idx,stat);\\n\\nCREATE TABLE \"tracks\"\\n(\\n    [TrackId] INTEGER PRIMARY KEY AUTOINCREMENT NOT NULL,\\n    [Name] NVARCHAR(200)  NOT NULL,\\n    [AlbumId] INTEGER,\\n    [MediaTypeId] INTEGER  NOT NULL,\\n    [GenreId] INTEGER,\\n    [Composer] NVARCHAR(220),\\n    [Milliseconds] INTEGER  NOT NULL,\\n    [Bytes] INTEGER,\\n    [UnitPrice] NUMERIC(10,2)  NOT NULL,\\n    FOREIGN KEY ([AlbumId]) REFERENCES \"albums\" ([AlbumId]) \\n\\t\\tON DELETE NO ACTION ON UPDATE NO ACTION,\\n    FOREIGN KEY ([GenreId]) REFERENCES \"genres\" ([GenreId]) \\n\\t\\tON DELETE NO ACTION ON UPDATE NO ACTION,\\n    FOREIGN KEY ([MediaTypeId]) REFERENCES \"media_types\" ([MediaTypeId]) \\n\\t\\tON DELETE NO ACTION ON UPDATE NO ACTION\\n);\\n\\n```'}]"
      ]
     },
     "execution_count": 69,
     "metadata": {},
     "output_type": "execute_result"
    }
   ],
   "source": [
    "sub_agents: list[dict] = []\n",
    "for json_file in glob.glob(\"agents/*.json\"):\n",
    "    sub_agent_config: dict = json.loads(open(json_file, \"r\", encoding=\"utf-8\").read())\n",
    "    # set prompt from txt file\n",
    "    if sub_agent_config.get(\"prompt_file_path\") and sub_agent_config.get(\"sql_schema_path\"):\n",
    "        txt_structure_sql = open(sub_agent_config[\"sql_schema_path\"], \"r\", encoding=\"utf-8\").read()\n",
    "        sub_agent_config[\"prompt\"] = open(\n",
    "            str(sub_agent_config.get(\"prompt_file_path\")),\n",
    "            \"r\",\n",
    "            encoding=\"utf-8\",\n",
    "        ).read()\n",
    "\n",
    "        sub_agent_config[\"prompt\"] = str(sub_agent_config[\"prompt\"]).format(db_structure_txt=txt_structure_sql)\n",
    "        sub_agents.append(sub_agent_config)\n",
    "sub_agents"
   ]
  },
  {
   "cell_type": "code",
   "execution_count": 70,
   "metadata": {},
   "outputs": [],
   "source": [
    "def convert_query_result_to_human_message(user_question: str, sql_statement: str, query_records: list, excel_path: str):\n",
    "    sql_to_human_client_agent: ChatGPTConnection = ChatGPTConnection(\n",
    "        api_key=os.environ.get(\"AZURE_OPENAI_KEY\"),\n",
    "        api_endpoint=os.environ.get(\"AZURE_OPENAI_ENDPOINT\"),\n",
    "        api_version=os.environ.get(\"AZURE_OPENAI_API_VERSION\"),\n",
    "        model=\"gpt-4o-mini\",\n",
    "        system_role=open(\"prompts/convert_query_records_to_human.txt\", \"r\", encoding=\"utf-8\").read(),\n",
    "        output_structure={\n",
    "            \"human_message\": \"text\",\n",
    "        },\n",
    "    )\n",
    "\n",
    "    user_prompt = \"\"\"\n",
    "    User Question : {user_question}\n",
    "    SQL Statment : {sql_statement}\n",
    "    Query Result : {query_records}\n",
    "    Excel Path : {excel_path}\n",
    "    You : \"\"\"\n",
    "\n",
    "    # if len(query_records) > 10:\n",
    "    #     query_records = str(query_records[0:10]) + \".. {} records left.\".format(len(query_records) - 10)\n",
    "\n",
    "    final_prompt = user_prompt.format(\n",
    "        user_question=user_question,\n",
    "        sql_statement=sql_statement,\n",
    "        query_records=str(query_records),\n",
    "        excel_path=excel_path,\n",
    "    )\n",
    "    # print(final_prompt)\n",
    "\n",
    "    result_human = sql_to_human_client_agent.query_chat(prompt=final_prompt)\n",
    "    return result_human[\"human_message\"]"
   ]
  },
  {
   "cell_type": "code",
   "execution_count": 117,
   "metadata": {},
   "outputs": [],
   "source": [
    "def chat_with_agent(agent_name=sub_agents[0][\"agent_name\"], input_message: str = \"\"):\n",
    "\n",
    "    use_agents: list[dict] = [s for s in sub_agents if s[\"agent_name\"] == agent_name]\n",
    "    use_agent: dict = None\n",
    "    if use_agents:\n",
    "        use_agent = use_agents[0]\n",
    "\n",
    "    client_agent = ChatGPTConnection(\n",
    "        api_key=os.environ.get(\"AZURE_OPENAI_KEY\"),\n",
    "        api_endpoint=os.environ.get(\"AZURE_OPENAI_ENDPOINT\"),\n",
    "        api_version=os.environ.get(\"AZURE_OPENAI_API_VERSION\"),\n",
    "        model=\"gpt-4o-mini\",\n",
    "        system_role=use_agent.get(\"prompt\"),\n",
    "        output_structure={\n",
    "            \"sql_statement\": \"text (only query statement without comments)\",\n",
    "        },\n",
    "    )\n",
    "    generate_sql_result = client_agent.query_chat(input_message)\n",
    "\n",
    "    db_executor = DB_MAPPER[agent_name]\n",
    "    db_executor.connect()\n",
    "    # print(\"## Step 1 Generate Statement >>\", generate_sql_result[\"sql_statement\"])\n",
    "\n",
    "    query_records = db_executor.fetch_all(query=generate_sql_result[\"sql_statement\"])\n",
    "    # query_records_pd = pd.DataFrame(query_records)\n",
    "    # excel_path = \"assets/{}.xlsx\".format(input_message)\n",
    "    # query_records_pd.to_excel(excel_path)\n",
    "\n",
    "    # print(\"## Step 2 Query result >>\", query_records)\n",
    "\n",
    "    # print(\"## Step 3 Human Pretty Message >>\")\n",
    "    return_human_message = convert_query_result_to_human_message(\n",
    "        user_question=input_message,\n",
    "        sql_statement=generate_sql_result[\"sql_statement\"],\n",
    "        query_records=query_records,\n",
    "        excel_path=None,\n",
    "    )\n",
    "    return return_human_message"
   ]
  },
  {
   "cell_type": "code",
   "execution_count": 118,
   "metadata": {},
   "outputs": [
    {
     "name": "stdout",
     "output_type": "stream",
     "text": [
      "Connected to the database at database/chinook.db\n"
     ]
    },
    {
     "data": {
      "text/plain": [
       "'นี่คือรายชื่อลูกค้าทั้งหมด:\\n\\n1. Luís Gonçalves - Embraer - Empresa Brasileira de Aeronáutica S.A., São José dos Campos, SP, Brazil, โทร: +55 (12) 3923-5555, อีเมล: luisg@embraer.com.br\\n2. Leonie Köhler - Theodor-Heuss-Straße 34, Stuttgart, Germany, โทร: +49 0711 2842222, อีเมล: leonekohler@surfeu.de\\n3. François Tremblay - 1498 rue Bélanger, Montréal, QC, Canada, โทร: +1 (514) 721-4711, อีเมล: ftremblay@gmail.com\\n4. Bjørn Hansen - Ullevålsveien 14, Oslo, Norway, โทร: +47 22 44 22 22, อีเมล: bjorn.hansen@yahoo.no\\n5. František Wichterlová - JetBrains s.r.o., Klanova 9/506, Prague, Czech Republic, โทร: +420 2 4172 5555, อีเมล: frantisekw@jetbrains.com\\n6. Helena Holý - Rilská 3174/6, Prague, Czech Republic, โทร: +420 2 4177 0449, อีเมล: hholy@gmail.com\\n7. Astrid Gruber - Rotenturmstraße 4, 1010 Innere Stadt, Vienne, Austria, โทร: +43 01 5134505, อีเมล: astrid.gruber@apple.at\\n8. Daan Peeters - Grétrystraat 63, Brussels, Belgium, โทร: +32 02 219 03 03, อีเมล: daan_peeters@apple.be\\n9. Kara Nielsen - Sønder Boulevard 51, Copenhagen, Denmark, โทร: +453 3331 9991, อีเมล: kara.nielsen@jubii.dk\\n10. Eduardo Martins - Woodstock Discos, Rua Dr. Falcão Filho, 155, São Paulo, SP, Brazil, โทร: +55 (11) 3033-5446, อีเมล: eduardo@woodstock.com.br\\n\\n(และมีลูกค้าอื่น ๆ อีกมากมาย...)'"
      ]
     },
     "execution_count": 118,
     "metadata": {},
     "output_type": "execute_result"
    }
   ],
   "source": [
    "# test chinook db\n",
    "chat_with_agent(agent_name=\"chinook-db-agent\", input_message=\"ขอดูรายชื่อลูกค้าทั้งหมดหน่อย\")"
   ]
  },
  {
   "cell_type": "code",
   "execution_count": 119,
   "metadata": {},
   "outputs": [
    {
     "name": "stdout",
     "output_type": "stream",
     "text": [
      "Connected to the PostgreSQL database northwind at localhost:5432\n"
     ]
    },
    {
     "data": {
      "text/plain": [
       "'รายชื่อประเทศทั้งหมด ได้แก่ อาร์เจนตินา, สเปน, สวิตเซอร์แลนด์, อิตาลี, เวเนซุเอลา, เบลเยียม, นอร์เวย์, สวีเดน, สหรัฐอเมริกา, ฝรั่งเศส, เม็กซิโก, บราซิล, ออสเตรีย, โปแลนด์, สหราชอาณาจักร, ไอร์แลนด์, เยอรมนี, เดนมาร์ก, แคนาดา, ฟินแลนด์, และโปรตุเกส.'"
      ]
     },
     "execution_count": 119,
     "metadata": {},
     "output_type": "execute_result"
    }
   ],
   "source": [
    "# test chinook db\n",
    "chat_with_agent(agent_name=\"northwind-db-agent\", input_message=\"ขอดูรายชื่อประเทศทั้งหมดหน่อย\")"
   ]
  },
  {
   "cell_type": "code",
   "execution_count": 120,
   "metadata": {},
   "outputs": [
    {
     "name": "stdout",
     "output_type": "stream",
     "text": [
      "คุณคือผู้ช่วยตอบคำถามของ User โดยคุณจะรู้จักกับ Agent ดังต่อไปนี้\n",
      "\n",
      "[0] Agent Name : `northwind-db-agent`, JobDescription : `Agent who know everything about categories,customer_customer_demo,customer_demographics,customers,employee_territories,employees,order_details,orders,products,region,shippers,suppliers,territories,us_states`\n",
      "[1] Agent Name : `chinook-db-agent`, JobDescription : `Agent who know everything about albums, artists, customers, employees, genres, invoice_items, invoices, media_types, playlist_track, playlists, tracks`\n",
      "\n"
     ]
    },
    {
     "data": {
      "text/plain": [
       "[{'agent_name': 'chinook-db-agent',\n",
       "  'question_to_agent': 'อัลบัมน์อะไรขายดีที่สุด?'},\n",
       " {'agent_name': 'chinook-db-agent',\n",
       "  'question_to_agent': 'ลูกค้าประเทศอะไรสั่งซื้อเยอะที่สุด?'},\n",
       " {'agent_name': 'northwind-db-agent',\n",
       "  'question_to_agent': 'ประเทศที่มีลูกค้าสั่งซื้อเยอะที่สุดมีลูกค้ากี่รายและใครบ้าง?'}]"
      ]
     },
     "execution_count": 120,
     "metadata": {},
     "output_type": "execute_result"
    }
   ],
   "source": [
    "# Build main agent\n",
    "sub_agents\n",
    "\n",
    "core_prompt = open(\"prompts/core.txt\", \"r\").read()\n",
    "interact_with_agents = \"\"\n",
    "for idx, s_agent in enumerate(sub_agents):\n",
    "    interact_with_agents += \"[{idx}] Agent Name : `{agent_name}`, JobDescription : `{description}`\\n\".format(\n",
    "        idx=idx,\n",
    "        agent_name=s_agent[\"agent_name\"],\n",
    "        description=s_agent[\"description\"],\n",
    "    )\n",
    "print(core_prompt.format(interact_with_agents=interact_with_agents))\n",
    "\n",
    "user_question = \"อัลบัมน์อะไรขายดีที่สุดและลูกค้าประเทศอะไรสั่งซื้อเยอะที่สุดใน chinook, แล้วประเทศดังกล่าวมีลูกค้ากี่รายใครบ้างใน northwind?\"\n",
    "# === Step 1\n",
    "prompt_list_query_message_to_agent_task = core_prompt.format(interact_with_agents=interact_with_agents)\n",
    "create_list_todo_client_agent = ChatGPTConnection(\n",
    "    api_key=os.environ.get(\"AZURE_OPENAI_KEY\"),\n",
    "    api_endpoint=os.environ.get(\"AZURE_OPENAI_ENDPOINT\"),\n",
    "    api_version=os.environ.get(\"AZURE_OPENAI_API_VERSION\"),\n",
    "    model=\"gpt-4o-mini\",\n",
    "    system_role=prompt_list_query_message_to_agent_task,\n",
    "    output_structure={\n",
    "        \"todo_tasks\": \"list[dict] \\{'agent_name':'str', 'question_to_agent':'str'\\}\",\n",
    "    },\n",
    ")\n",
    "todo_tasks = create_list_todo_client_agent.query_chat(user_question)\n",
    "todo_tasks[\"todo_tasks\"]"
   ]
  },
  {
   "cell_type": "code",
   "execution_count": 123,
   "metadata": {},
   "outputs": [
    {
     "name": "stdout",
     "output_type": "stream",
     "text": [
      "0 ----\n",
      "Connected to the database at database/chinook.db\n",
      "chinook-db-agent: อัลบัมน์ที่ขายดีที่สุดคือ 'Minha Historia' โดยมียอดขายทั้งหมด 27 ชุด.\n",
      "1 ----\n",
      "Connected to the database at database/chinook.db\n",
      "chinook-db-agent: อัลบัมน์ที่ขายดีที่สุดคือ 'Minha Historia' โดยมียอดขายทั้งหมด 27 ชุด.\n",
      "chinook-db-agent: ลูกค้าที่สั่งซื้อเยอะที่สุดมาจากประเทศสหรัฐอเมริกา โดยมียอดสั่งซื้อทั้งหมด 91 รายการ.\n",
      "2 ----\n",
      "Connected to the PostgreSQL database northwind at localhost:5432\n",
      "chinook-db-agent: อัลบัมน์ที่ขายดีที่สุดคือ 'Minha Historia' โดยมียอดขายทั้งหมด 27 ชุด.\n",
      "chinook-db-agent: ลูกค้าที่สั่งซื้อเยอะที่สุดมาจากประเทศสหรัฐอเมริกา โดยมียอดสั่งซื้อทั้งหมด 91 รายการ.\n",
      "northwind-db-agent: ประเทศที่มีลูกค้าสั่งซื้อเยอะที่สุดคือ สหรัฐอเมริกา โดยมีลูกค้าทั้งหมด 13 ราย.\n",
      "ประเทศที่มีลูกค้าสั่งซื้อเยอะที่สุดคือ สหรัฐอเมริกา โดยมีลูกค้าทั้งหมด 13 ราย.\n"
     ]
    }
   ],
   "source": [
    "prev_row = None\n",
    "query_result = None\n",
    "for idx, item_task in enumerate(todo_tasks[\"todo_tasks\"]):\n",
    "    print(idx, \"----\")\n",
    "    user_q = item_task[\"question_to_agent\"]\n",
    "    agent_name = item_task[\"agent_name\"]\n",
    "    if prev_row is None:\n",
    "        query_result = chat_with_agent(agent_name=agent_name, input_message=user_q)\n",
    "        prev_row = \"{agent_name}: {query_result}\".format(agent_name=agent_name, query_result=query_result)\n",
    "\n",
    "    else:\n",
    "        query_result = chat_with_agent(\n",
    "            agent_name=agent_name,\n",
    "            input_message=\"{prev_row}\\n{user_q}\".format(\n",
    "                prev_row=prev_row,\n",
    "                user_q=user_q,\n",
    "            ),\n",
    "        )\n",
    "        prev_row = \"{prev_row}\\n{agent_name}: {query_result}\".format(prev_row=prev_row, agent_name=agent_name, query_result=query_result)\n",
    "\n",
    "    print(prev_row)\n",
    "\n",
    "print(query_result)"
   ]
  },
  {
   "cell_type": "code",
   "execution_count": 114,
   "metadata": {},
   "outputs": [
    {
     "data": {
      "text/plain": [
       "'ประเทศที่มีลูกค้าสั่งซื้อเยอะที่สุดคือประเทศที่มีลูกค้าทั้งหมด 13 ราย.'"
      ]
     },
     "execution_count": 114,
     "metadata": {},
     "output_type": "execute_result"
    }
   ],
   "source": [
    "query_result"
   ]
  }
 ],
 "metadata": {
  "kernelspec": {
   "display_name": ".venv",
   "language": "python",
   "name": "python3"
  },
  "language_info": {
   "codemirror_mode": {
    "name": "ipython",
    "version": 3
   },
   "file_extension": ".py",
   "mimetype": "text/x-python",
   "name": "python",
   "nbconvert_exporter": "python",
   "pygments_lexer": "ipython3",
   "version": "3.10.14"
  }
 },
 "nbformat": 4,
 "nbformat_minor": 2
}
